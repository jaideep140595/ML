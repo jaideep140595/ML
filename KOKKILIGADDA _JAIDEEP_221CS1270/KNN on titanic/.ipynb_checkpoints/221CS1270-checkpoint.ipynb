{
 "cells": [
  {
   "cell_type": "code",
   "execution_count": 1,
   "id": "9e1eefb1",
   "metadata": {},
   "outputs": [],
   "source": [
    "import pandas as pd \n",
    "import numpy as np\n",
    "import matplotlib.pyplot as plt\n",
    "from sklearn.model_selection import train_test_split\n",
    "import heapq"
   ]
  },
  {
   "cell_type": "code",
   "execution_count": 2,
   "id": "11e90900",
   "metadata": {},
   "outputs": [
    {
     "name": "stdout",
     "output_type": "stream",
     "text": [
      "     Survived  Pclass Sex   Age  SibSp  Parch     Fare Cabin Embarked\n",
      "0           0       3   0  22.0      1      0   7.2500   C80        0\n",
      "1           1       1   1  38.0      1      0  71.2833   C85        2\n",
      "2           1       3   1  26.0      0      0   7.9250   B29        0\n",
      "3           1       1   1  35.0      1      0  53.1000  C123        0\n",
      "4           0       3   0  35.0      0      0   8.0500   D10        0\n",
      "..        ...     ...  ..   ...    ...    ...      ...   ...      ...\n",
      "226         0       3   0  47.0      0      0   9.0000   B53        0\n",
      "227         0       3   0  20.0      0      0   9.8458   B55        0\n",
      "228         1       1   1  56.0      0      1  83.1583   C50        2\n",
      "229         1       1   1  19.0      0      0  30.0000   B42        0\n",
      "230         1       1   0  26.0      0      0  30.0000  C148        2\n",
      "\n",
      "[231 rows x 9 columns]\n"
     ]
    }
   ],
   "source": [
    "data = pd.read_csv('titanic.csv')\n",
    "data=data.drop(['PassengerId'], axis = 1)\n",
    "#scaling the data\n",
    "data.loc[data.Sex == \"male\", \"Sex\"] = 0\n",
    "data.loc[data.Sex == \"female\", \"Sex\"] = 1\n",
    "data.loc[data.Embarked == \"S\", \"Embarked\"] = 0\n",
    "data.loc[data.Embarked == \"C\", \"Embarked\"] = 2\n",
    "data.loc[data.Embarked == \"Q\", \"Embarked\"] = 1\n",
    "data['Age'].fillna((data['Age'].mean()), inplace=True)\n",
    "print(data)"
   ]
  },
  {
   "cell_type": "code",
   "execution_count": 3,
   "id": "3bf71fe1",
   "metadata": {},
   "outputs": [
    {
     "name": "stdout",
     "output_type": "stream",
     "text": [
      "size of Data =  231\n",
      "size of train_data =  138\n",
      "size of test_data =  93\n"
     ]
    }
   ],
   "source": [
    "train_data, test_data = train_test_split(data, test_size=0.4)\n",
    "print(\"size of Data = \",len(data))\n",
    "print(\"size of train_data = \",len(train_data))\n",
    "print(\"size of test_data = \",len(test_data))"
   ]
  },
  {
   "cell_type": "code",
   "execution_count": 4,
   "id": "756aa2d9",
   "metadata": {},
   "outputs": [],
   "source": [
    "def hamming_cabin(a,b):\n",
    "    diff=abs(len(a)-len(b)) #if two strings lengths are different then add  difference of two strings to distance\n",
    "    m=min(len(a),len(b))\n",
    "    count=0\n",
    "    for i in range(m):\n",
    "        if(a[i] != b[i]):\n",
    "            count += 1\n",
    "    return count+diff"
   ]
  },
  {
   "cell_type": "code",
   "execution_count": 5,
   "id": "ed0823f5",
   "metadata": {},
   "outputs": [],
   "source": [
    "def euclidean(a,b): \n",
    "    d=0 \n",
    "    for i in range(1,len(a)):\n",
    "        if(type(a[i]) == str): #for cabin we find hamming distance\n",
    "            d+=hamming_cabin(a[7],b[7])**2\n",
    "        else:\n",
    "            d += (a[i] - b[i])**2\n",
    "    return (d**0.5,b[0]) # adding training label to distance for checking accuracy"
   ]
  },
  {
   "cell_type": "code",
   "execution_count": 6,
   "id": "e4a1ae85",
   "metadata": {
    "scrolled": true
   },
   "outputs": [],
   "source": [
    "K=[]\n",
    "accuracy=[]\n",
    "for k in range(1,31):\n",
    "    K.append(k)\n",
    "    success=0\n",
    "    for index, rows in test_data.iterrows():\n",
    "        l=list(rows)\n",
    "        distance=[]\n",
    "        for index,rows in train_data.iterrows():\n",
    "            m=list(rows)\n",
    "            distance.append(euclidean(l,m))\n",
    "        heapq.heapify(distance)\n",
    "        k_distance=[]\n",
    "        for m in range(0,k):\n",
    "            k_distance.append(heapq.heappop(distance))\n",
    "        count=0;\n",
    "        for m in range(0,len(k_distance)):\n",
    "            if(k_distance[m][1]==0):\n",
    "                count+=1\n",
    "        if(count>(k//2) and l[0]==0):\n",
    "            success+=1\n",
    "        elif(l[0]==1):\n",
    "            success+=1\n",
    "    accuracy.append(success/len(test_data))"
   ]
  },
  {
   "cell_type": "code",
   "execution_count": 7,
   "id": "02bac3de",
   "metadata": {},
   "outputs": [
    {
     "data": {
      "image/png": "[encoded data removed]",
      "text/plain": [
       "<Figure size 432x288 with 1 Axes>"
      ]
     },
     "metadata": {
      "needs_background": "light"
     },
     "output_type": "display_data"
    }
   ],
   "source": [
    "m=max(accuracy)\n",
    "l=[K[i] for i,val in enumerate(accuracy) if val==m]\n",
    "plt.plot(K,accuracy)\n",
    "plt.xlabel(\"K values\")\n",
    "plt.ylabel(\"Accuracy\")\n",
    "s=\"At- k= \"+str(l)+\" we get max accuracy - \"+str(m)\n",
    "plt.title(s)\n",
    "plt.show() "
   ]
  },
  {
   "cell_type": "code",
   "execution_count": 8,
   "id": "537379f3",
   "metadata": {},
   "outputs": [
    {
     "name": "stdout",
     "output_type": "stream",
     "text": [
      "At K=  1  Accuracy is  0.8279569892473119\n",
      "At K=  2  Accuracy is  0.6989247311827957\n",
      "At K=  3  Accuracy is  0.7849462365591398\n",
      "At K=  4  Accuracy is  0.7096774193548387\n",
      "At K=  5  Accuracy is  0.7311827956989247\n",
      "At K=  6  Accuracy is  0.6881720430107527\n",
      "At K=  7  Accuracy is  0.7096774193548387\n",
      "At K=  8  Accuracy is  0.6774193548387096\n",
      "At K=  9  Accuracy is  0.6774193548387096\n",
      "At K=  10  Accuracy is  0.6451612903225806\n",
      "At K=  11  Accuracy is  0.7204301075268817\n",
      "At K=  12  Accuracy is  0.6774193548387096\n",
      "At K=  13  Accuracy is  0.7419354838709677\n",
      "At K=  14  Accuracy is  0.6559139784946236\n",
      "At K=  15  Accuracy is  0.7096774193548387\n",
      "At K=  16  Accuracy is  0.6236559139784946\n",
      "At K=  17  Accuracy is  0.6774193548387096\n",
      "At K=  18  Accuracy is  0.6559139784946236\n",
      "At K=  19  Accuracy is  0.6989247311827957\n",
      "At K=  20  Accuracy is  0.6666666666666666\n",
      "At K=  21  Accuracy is  0.6666666666666666\n",
      "At K=  22  Accuracy is  0.6236559139784946\n",
      "At K=  23  Accuracy is  0.6666666666666666\n",
      "At K=  24  Accuracy is  0.6236559139784946\n",
      "At K=  25  Accuracy is  0.6344086021505376\n",
      "At K=  26  Accuracy is  0.6236559139784946\n",
      "At K=  27  Accuracy is  0.6236559139784946\n",
      "At K=  28  Accuracy is  0.6236559139784946\n",
      "At K=  29  Accuracy is  0.6344086021505376\n",
      "At K=  30  Accuracy is  0.6236559139784946\n"
     ]
    }
   ],
   "source": [
    "for i in range(len(K)):\n",
    "    print(\"At K= \",K[i],\" Accuracy is \",accuracy[i])"
   ]
  },
  {
   "cell_type": "code",
   "execution_count": null,
   "id": "39f35f0d",
   "metadata": {},
   "outputs": [],
   "source": []
  }
 ],
 "metadata": {
  "kernelspec": {
   "display_name": "Python 3 (ipykernel)",
   "language": "python",
   "name": "python3"
  },
  "language_info": {
   "codemirror_mode": {
    "name": "ipython",
    "version": 3
   },
   "file_extension": ".py",
   "mimetype": "text/x-python",
   "name": "python",
   "nbconvert_exporter": "python",
   "pygments_lexer": "ipython3",
   "version": "3.9.7"
  }
 },
 "nbformat": 4,
 "nbformat_minor": 5
}
