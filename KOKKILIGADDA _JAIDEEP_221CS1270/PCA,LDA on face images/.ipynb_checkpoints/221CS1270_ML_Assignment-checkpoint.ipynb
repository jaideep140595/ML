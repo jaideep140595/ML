{
 "cells": [
  {
   "cell_type": "markdown",
   "id": "97f2ed9a",
   "metadata": {},
   "source": [
    "#####        Comparison of PCA and LDA"
   ]
  },
  {
   "cell_type": "code",
   "execution_count": 1,
   "id": "ed6ebe05",
   "metadata": {},
   "outputs": [],
   "source": [
    "import numpy as np\n",
    "import os\n",
    "import cv2\n",
    "import matplotlib.pyplot as plt"
   ]
  },
  {
   "cell_type": "code",
   "execution_count": 2,
   "id": "de98e1f5",
   "metadata": {},
   "outputs": [],
   "source": [
    "train_imgs=[]\n",
    "test_imgs=[]\n",
    "train_label=[]\n",
    "test_label=[]\n",
    "for i in range(1,41):\n",
    "    for j in range(1,11):\n",
    "        img=cv2.imread(\"face_data\\\\s\"+str(i)+\"\\\\\"+str(j)+\".pgm\",0)\n",
    "        img=np.ravel(img).astype(np.int64)\n",
    "        if(j<7): \n",
    "            train_imgs.append(img)\n",
    "            train_label.append(i)\n",
    "        else:\n",
    "            test_imgs.append(img)\n",
    "            test_label.append(i)\n",
    "train_set = np.array(train_imgs).T\n",
    "train_set_number = np.array(train_label)\n",
    "test_set = np.array(test_imgs).T\n",
    "test_set_number = np.array(test_label)"
   ]
  },
  {
   "cell_type": "code",
   "execution_count": 3,
   "id": "600321b2",
   "metadata": {},
   "outputs": [],
   "source": [
    "def find_mean(temp):\n",
    "    M = np.mean(temp, axis = 1)\n",
    "    return M\n",
    "\n",
    "def mean_normalization(arr):\n",
    "    M = find_mean(arr)\n",
    "    x_range = arr.shape[0]\n",
    "    y_range = arr.shape[1]\n",
    "    for i in range(x_range):\n",
    "        for j in range(y_range):\n",
    "            arr[i][j] -= M[i]\n",
    "    return arr "
   ]
  },
  {
   "cell_type": "markdown",
   "id": "44ca35e9",
   "metadata": {},
   "source": [
    "###### STEP:1 Applying PCA on the given data for overcomming small sample size problem"
   ]
  },
  {
   "cell_type": "code",
   "execution_count": 4,
   "id": "8ad75312",
   "metadata": {},
   "outputs": [],
   "source": [
    "def PCA(A,k):\n",
    "    L = np.dot(A.T, A)\n",
    "    eigenvalues, eigenvectors = np.linalg.eig(L)\n",
    "    eigenvectors=np.array(eigenvectors)\n",
    "    temp = []\n",
    "    for i in range(k):\n",
    "        temp.append(np.dot(A,eigenvectors[:,i]))\n",
    "    temp = np.array(temp)\n",
    "    temp = temp.T\n",
    "    sig_faces = np.dot(temp.T, A)\n",
    "    return [temp,sig_faces]"
   ]
  },
  {
   "cell_type": "code",
   "execution_count": 5,
   "id": "cbad3b4b",
   "metadata": {},
   "outputs": [
    {
     "name": "stdout",
     "output_type": "stream",
     "text": [
      "Total faces in training =  240\n",
      "Total features in each training image =  240\n"
     ]
    }
   ],
   "source": [
    "p=240 # 240 features selected from PCA\n",
    "mean_aligned_train = mean_normalization(train_set)\n",
    "U,signature=PCA(mean_aligned_train,p)\n",
    "print(\"Total faces in training = \",signature.shape[0])\n",
    "print(\"Total features in each training image = \",signature.shape[1])"
   ]
  },
  {
   "cell_type": "markdown",
   "id": "edc378ef",
   "metadata": {},
   "source": [
    "###### STEP 2,3  Assigning number of classes and calculating  the mean of the Projected faces "
   ]
  },
  {
   "cell_type": "code",
   "execution_count": 6,
   "id": "5637e416",
   "metadata": {},
   "outputs": [
    {
     "name": "stdout",
     "output_type": "stream",
     "text": [
      "Shape of projected means :  (240, 1)\n"
     ]
    }
   ],
   "source": [
    "#Calculate the means of each class\n",
    "number_of_classes=len(signature)/6\n",
    "overall_mean = np.mean(signature, axis = 1)\n",
    "overall_mean = overall_mean.reshape(len(overall_mean),1)\n",
    "print(\"Shape of projected means : \",overall_mean.shape)"
   ]
  },
  {
   "cell_type": "markdown",
   "id": "ca9b7eeb",
   "metadata": {},
   "source": [
    "###### STEP 4 Calculate the within class scatter matrix (SW) , and between class scatter matrix (SB)"
   ]
  },
  {
   "cell_type": "code",
   "execution_count": 7,
   "id": "811a348f",
   "metadata": {},
   "outputs": [
    {
     "ename": "NameError",
     "evalue": "name 'weight_vector' is not defined",
     "output_type": "error",
     "traceback": [
      "\u001b[1;31m---------------------------------------------------------------------------\u001b[0m",
      "\u001b[1;31mNameError\u001b[0m                                 Traceback (most recent call last)",
      "\u001b[1;32m~\\AppData\\Local\\Temp/ipykernel_14604/380495832.py\u001b[0m in \u001b[0;36m<module>\u001b[1;34m\u001b[0m\n\u001b[0;32m      2\u001b[0m \u001b[1;32mfor\u001b[0m \u001b[0mi\u001b[0m \u001b[1;32min\u001b[0m \u001b[0mrange\u001b[0m\u001b[1;33m(\u001b[0m\u001b[1;36m40\u001b[0m\u001b[1;33m)\u001b[0m\u001b[1;33m:\u001b[0m\u001b[1;33m\u001b[0m\u001b[1;33m\u001b[0m\u001b[0m\n\u001b[0;32m      3\u001b[0m     \u001b[0mind\u001b[0m \u001b[1;33m=\u001b[0m \u001b[0mi\u001b[0m \u001b[1;33m*\u001b[0m \u001b[1;36m6\u001b[0m\u001b[1;33m\u001b[0m\u001b[1;33m\u001b[0m\u001b[0m\n\u001b[1;32m----> 4\u001b[1;33m     \u001b[0mV\u001b[0m \u001b[1;33m=\u001b[0m \u001b[0mweight_vector\u001b[0m\u001b[1;33m[\u001b[0m\u001b[1;33m:\u001b[0m\u001b[1;33m,\u001b[0m\u001b[0mind\u001b[0m\u001b[1;33m:\u001b[0m\u001b[0mind\u001b[0m\u001b[1;33m+\u001b[0m\u001b[1;36m6\u001b[0m\u001b[1;33m]\u001b[0m\u001b[1;33m\u001b[0m\u001b[1;33m\u001b[0m\u001b[0m\n\u001b[0m\u001b[0;32m      5\u001b[0m     \u001b[0mmean_local\u001b[0m \u001b[1;33m=\u001b[0m \u001b[0mnp\u001b[0m\u001b[1;33m.\u001b[0m\u001b[0mmean\u001b[0m\u001b[1;33m(\u001b[0m\u001b[0mV\u001b[0m\u001b[1;33m,\u001b[0m \u001b[0maxis\u001b[0m \u001b[1;33m=\u001b[0m \u001b[1;36m1\u001b[0m\u001b[1;33m)\u001b[0m\u001b[1;33m\u001b[0m\u001b[1;33m\u001b[0m\u001b[0m\n\u001b[0;32m      6\u001b[0m     \u001b[0mmean_local\u001b[0m \u001b[1;33m=\u001b[0m \u001b[0mmean_local\u001b[0m\u001b[1;33m.\u001b[0m\u001b[0mreshape\u001b[0m\u001b[1;33m(\u001b[0m\u001b[0mlen\u001b[0m\u001b[1;33m(\u001b[0m\u001b[0mmean_local\u001b[0m\u001b[1;33m)\u001b[0m\u001b[1;33m,\u001b[0m\u001b[1;36m1\u001b[0m\u001b[1;33m)\u001b[0m\u001b[1;33m\u001b[0m\u001b[1;33m\u001b[0m\u001b[0m\n",
      "\u001b[1;31mNameError\u001b[0m: name 'weight_vector' is not defined"
     ]
    }
   ],
   "source": [
    "SW = np.zeros([p,p])\n",
    "for i in range(40):\n",
    "    ind = i * 6\n",
    "    V = signature[:,ind:ind+6]\n",
    "    mean_local = np.mean(V, axis = 1)\n",
    "    mean_local = mean_local.reshape(len(mean_local),1)\n",
    "    mean = np.repeat(mean_local, 6,axis = 1)\n",
    "    diff = V - mean\n",
    "    SW = SW + np.dot(diff, diff.T)\n",
    "SB = np.zeros([p,p])\n",
    "for i in range(40):\n",
    "    V = signature[:,i:i+6]\n",
    "    mean_local = np.mean(V, axis = 1)\n",
    "    mean_local = mean_local.reshape(mean_local.shape[0],1)\n",
    "    diff = mean_local - overall_mean\n",
    "    SB = SB  + np.dot(diff, mean_local.T)"
   ]
  },
  {
   "cell_type": "markdown",
   "id": "04ca899b",
   "metadata": {},
   "source": [
    "###### STEP 5 Finging Criterion Function "
   ]
  },
  {
   "cell_type": "code",
   "execution_count": null,
   "id": "4ec22211",
   "metadata": {},
   "outputs": [],
   "source": [
    "J = np.dot(np.linalg.pinv(SW), SB)"
   ]
  },
  {
   "cell_type": "markdown",
   "id": "5df7cd52",
   "metadata": {},
   "source": [
    "###### STEP 6 Finding the Eigen vector and Eigen values of the Criterion function"
   ]
  },
  {
   "cell_type": "code",
   "execution_count": null,
   "id": "520a7507",
   "metadata": {},
   "outputs": [],
   "source": [
    "eigenval, eigenvec = np.linalg.eig(J)\n",
    "eigenval,eigenvec = (list(t) for t in zip(*sorted(zip(eigenval,eigenvec),reverse=True)))\n",
    "eigenvec=np.array(eigenvec)"
   ]
  },
  {
   "cell_type": "markdown",
   "id": "69612563",
   "metadata": {},
   "source": [
    "###### Doing mean Zero for test_set"
   ]
  },
  {
   "cell_type": "code",
   "execution_count": null,
   "id": "1cf87932",
   "metadata": {},
   "outputs": [],
   "source": [
    "M = np.mean(test_set, axis = 1)\n",
    "for i in range(len(test_set)):\n",
    "    for j in range(len(test_set[0])):\n",
    "        test_set[i][j] -= M[i]\n",
    "print(\"samples in test_set : \",test_set.shape[1])"
   ]
  },
  {
   "cell_type": "code",
   "execution_count": null,
   "id": "cd7c563e",
   "metadata": {},
   "outputs": [],
   "source": [
    "def euclidean(x,y):\n",
    "    d=(x-y)**2\n",
    "    s=np.sum(d)\n",
    "    return s**0.5"
   ]
  },
  {
   "cell_type": "markdown",
   "id": "8b21bbd2",
   "metadata": {},
   "source": [
    "###### Finding accuracy of LDA with best 1 to 75 components"
   ]
  },
  {
   "cell_type": "code",
   "execution_count": null,
   "id": "868ff5d5",
   "metadata": {},
   "outputs": [],
   "source": [
    "accuracy_lda=[]\n",
    "for k_val in range(1,75):\n",
    "    eigen_vec=eigenvec[:,:k_val]    # step 7 selecting m best features \n",
    "    fisher_faces = np.dot(eigen_vec.T, weight_vector) # step 8 generating fisher_faces for training\n",
    "    signature_test = np.dot(U.T, test_set)  \n",
    "    projected_fisher_faces = np.dot(eigen_vec.T, signature_test) # generating fisher test faces\n",
    "    count = 0\n",
    "    for i in range(160) : \n",
    "        test_i = projected_fisher_faces[:,i]\n",
    "        ans = 0\n",
    "        index = 0\n",
    "        for j in range(240):\n",
    "            train_j = fisher_faces[:,j]\n",
    "            min_d=euclidean(test_i,train_j) # finging euclidean distance from test point to train point\n",
    "            if ans == 0 :\n",
    "                ans = min_d\n",
    "                index = j\n",
    "            else :\n",
    "                if min_d < ans:\n",
    "                    ans = min_d\n",
    "                    index = j\n",
    "        if train_set_number[index] == test_set_number[i]:\n",
    "            count = count + 1\n",
    "    accuracy_lda.append(count*100/160)"
   ]
  },
  {
   "cell_type": "markdown",
   "id": "305f67f5",
   "metadata": {},
   "source": [
    "###### Finding accuracy of PCA with best 1 to 75 components"
   ]
  },
  {
   "cell_type": "code",
   "execution_count": null,
   "id": "c0045b77",
   "metadata": {},
   "outputs": [],
   "source": [
    "# mean_aligned_test=mean_normalization(test_set)\n",
    "accuracy_pca=[]\n",
    "x=[]\n",
    "for k in range(1,75):\n",
    "    x.append(k)\n",
    "    eigenfaces,train_data=PCA(mean_aligned_train,k)\n",
    "    test_points=np.dot(eigenfaces.T,mean_aligned_test)\n",
    "    count=0\n",
    "    count = 0\n",
    "    for i in range(160) : \n",
    "        ith_wv = test_points[:,i]\n",
    "        ans = 0\n",
    "        index = 0\n",
    "        for j in range(240):\n",
    "            jth_wv = train_data[:,j]\n",
    "            sm=euclidean(ith_wv,jth_wv)\n",
    "            if ans == 0 :\n",
    "                ans = sm\n",
    "                index = j\n",
    "            else :\n",
    "                if sm < ans:\n",
    "                    ans = sm\n",
    "                    index = j\n",
    "        if train_set_number[index] == test_set_number[i]:\n",
    "            count = count + 1\n",
    "    accuracy_pca.append(count*100/len(y_pred))"
   ]
  },
  {
   "cell_type": "markdown",
   "id": "d0010714",
   "metadata": {},
   "source": [
    "###### Compering the classification results of both PCA and LDA"
   ]
  },
  {
   "cell_type": "code",
   "execution_count": null,
   "id": "33eca901",
   "metadata": {},
   "outputs": [],
   "source": [
    "plt.plot(x,accuracy_pca)\n",
    "plt.plot(x,accuracy_lda)\n",
    "plt.legend([\"PCA\", \"LDA\"])"
   ]
  },
  {
   "cell_type": "code",
   "execution_count": null,
   "id": "f42affa6",
   "metadata": {},
   "outputs": [],
   "source": [
    "print(\"In my model PCA gives best performance at P = \",accuracy_pca.index(max(accuracy_pca)),\" accuracy is \",max(accuracy_pca))\n",
    "print(\"In my model LDA gives best performance at L = \",accuracy_lda.index(max(accuracy_lda)),\" accuracy is \",max(accuracy_lda))"
   ]
  },
  {
   "cell_type": "code",
   "execution_count": null,
   "id": "20231b30",
   "metadata": {},
   "outputs": [],
   "source": [
    "if(max(accuracy_pca)>max(accuracy_lda)):\n",
    "    print(\"PCA GIVES BEST PERFORMANCE IN THIS EXAMPLE \")\n",
    "else:\n",
    "    print(\"LDA GIVES BEST PERFORMANCE IN THIS EXAMPLE \")"
   ]
  }
 ],
 "metadata": {
  "kernelspec": {
   "display_name": "Python 3 (ipykernel)",
   "language": "python",
   "name": "python3"
  },
  "language_info": {
   "codemirror_mode": {
    "name": "ipython",
    "version": 3
   },
   "file_extension": ".py",
   "mimetype": "text/x-python",
   "name": "python",
   "nbconvert_exporter": "python",
   "pygments_lexer": "ipython3",
   "version": "3.9.7"
  }
 },
 "nbformat": 4,
 "nbformat_minor": 5
}
