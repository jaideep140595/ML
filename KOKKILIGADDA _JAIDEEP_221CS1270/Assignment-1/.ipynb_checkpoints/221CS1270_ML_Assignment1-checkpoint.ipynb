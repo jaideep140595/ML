{
 "cells": [
  {
   "cell_type": "code",
   "execution_count": 8,
   "id": "6b725e73",
   "metadata": {},
   "outputs": [],
   "source": [
    "import pandas as pd \n",
    "import numpy as np\n",
    "import matplotlib.pyplot as plt\n",
    "from sklearn.model_selection import train_test_split"
   ]
  },
  {
   "cell_type": "code",
   "execution_count": 9,
   "id": "1c38d769",
   "metadata": {},
   "outputs": [],
   "source": [
    "data = pd.read_csv('iris.data',header=None)\n",
    "setosa=data[:50]\n",
    "versicolor=data[50:100]\n",
    "virginica=data[100:150]"
   ]
  },
  {
   "cell_type": "code",
   "execution_count": 10,
   "id": "b809608a",
   "metadata": {},
   "outputs": [],
   "source": [
    "train_setosa, test_setosa = train_test_split(setosa.iloc[:,:4], test_size=0.4)\n",
    "train_versicolor, test_versicolor = train_test_split(versicolor.iloc[:,:4], test_size=0.4)\n",
    "train_virginica, test_virginica = train_test_split(virginica.iloc[:,:4], test_size=0.4)\n",
    "mean_setosa=np.mean(train_setosa, axis = 0)\n",
    "mean_versicolor=np.mean(train_versicolor, axis = 0)\n",
    "mean_virginica=np.mean(train_virginica, axis = 0)\n",
    "cov_setosa = np.cov(np.transpose(train_setosa))\n",
    "cov_versicolor=np.cov(np.transpose(train_versicolor))\n",
    "cov_virginica=np.cov(np.transpose(train_virginica))\n",
    "train_data= train_virginica.append([train_versicolor,train_virginica])"
   ]
  },
  {
   "cell_type": "code",
   "execution_count": 11,
   "id": "b74cdde8",
   "metadata": {},
   "outputs": [],
   "source": [
    "def city_block(a,b):\n",
    "    d = 0\n",
    "    for i in range(0,4):\n",
    "        d += abs(a[i]-b[i]) \n",
    "    return d\n",
    "\n",
    "def euclidean(a,b): \n",
    "    d=0 \n",
    "    for i in range(0,4): \n",
    "        d += (a[i] - b[i])**2 \n",
    "    return d**0.5\n",
    "\n",
    "def chessBoard(a,b): \n",
    "    d = 0 \n",
    "    l=[]\n",
    "    for i in range(4): \n",
    "        l.append(abs(a[i] - b[i]))\n",
    "    return max(l)\n",
    "\n",
    "def mahalanobis(a,b,cov):\n",
    "    temp=a-b\n",
    "    d =round(np.dot((np.dot(temp,np.linalg.inv(cov))),np.transpose(temp)))\n",
    "    return d\n",
    "\n",
    "def correlation(a,b):\n",
    "    p=q=r=0\n",
    "    a_mean=np.mean(a)\n",
    "    b_mean=np.mean(b)\n",
    "    for i in range(4): \n",
    "        p += ((a[i]-a_mean)*(b[i]-b_mean)) \n",
    "        q += (a[i] - a_mean)**2\n",
    "        r += (b[i] - b_mean)**2\n",
    "    m = (q*r)**0.5\n",
    "    return 1 - (p/m)\n",
    "\n",
    "def cosine(a,b): \n",
    "    norm1 = 0 \n",
    "    norm2 = 0 \n",
    "    for i in range(4): \n",
    "        norm1 += a[i]**2 \n",
    "        norm2 += b[i]**2 \n",
    "    norm1 = norm1**0.5\n",
    "    norm2 = norm2**0.5\n",
    "    d = 1 - (np.dot(a,b)/(norm1*norm2))\n",
    "    return d \n",
    "\n",
    "def brayCurtis(a,b): \n",
    "    d1 = 0 \n",
    "    d2 = 0 \n",
    "    for i in range(4): \n",
    "        d1 += np.abs(a[i] - b[i]) \n",
    "        d2 += np.abs(a[i] + b[i])\n",
    "    return d1/d2\n",
    "\n",
    "def canberra(a,b): \n",
    "    d=0\n",
    "    for i in range(4): \n",
    "        d+=np.abs(a[i]-b[i])/np.abs(a[i]+b[i]) \n",
    "    return d\n",
    "\n",
    "def minkowski(a,b):\n",
    "    d=0\n",
    "    for i in range(4):\n",
    "        d+=(np.abs(a[i]-b[i])**3)\n",
    "    return d**(1/3)"
   ]
  },
  {
   "cell_type": "code",
   "execution_count": 12,
   "id": "2e6d1c26",
   "metadata": {},
   "outputs": [],
   "source": [
    "list_distance=[euclidean,city_block,chessBoard,mahalanobis,correlation,cosine,brayCurtis,canberra,minkowski]\n",
    "res=[]\n",
    "test_data= test_virginica.append([test_setosa, test_versicolor])\n",
    "for i in list_distance:\n",
    "    success=0\n",
    "    for index, rows in test_data.iterrows():\n",
    "        l=list([rows[0],rows[1],rows[2],rows[3]])\n",
    "        if(i==mahalanobis):\n",
    "            d1=i(l,mean_setosa,cov_setosa)\n",
    "            d2=i(l,mean_versicolor,cov_versicolor)\n",
    "            d3=i(l,mean_virginica,cov_virginica)\n",
    "        else:\n",
    "            d1=i(l,mean_setosa)\n",
    "            d2=i(l,mean_versicolor)\n",
    "            d3=i(l,mean_virginica)\n",
    "        if(d3<d2 and d3<d1):\n",
    "            if((data.iloc[[index],[4]]==\"Iris-virginica\").bool()):\n",
    "                success+=1\n",
    "        elif(d1<d2 and d1<d3):\n",
    "            if((data.iloc[[index],[4]]==\"Iris-setosa\").bool()):\n",
    "                success+=1\n",
    "        elif(d2<d3 and d2<d1):\n",
    "            if((data.iloc[[index],[4]]==\"Iris-versicolor\").bool()):\n",
    "                success+=1\n",
    "    res.append(1-success/len(test_data)) #Misclassification Error Rate"
   ]
  },
  {
   "cell_type": "code",
   "execution_count": 13,
   "id": "46e8ed93",
   "metadata": {},
   "outputs": [
    {
     "data": {
      "image/png": "[encoded data removed]",
      "text/plain": [
       "<Figure size 432x288 with 1 Axes>"
      ]
     },
     "metadata": {
      "needs_background": "light"
     },
     "output_type": "display_data"
    }
   ],
   "source": [
    "#Take a sample test point and plot the distance from each centroids. Indicate the true class and predicted class\n",
    "\n",
    "random_point=test_data.sample()\n",
    "index=random_point.index[0]\n",
    "random_point=random_point.values[0]\n",
    "d1=euclidean(random_point,mean_setosa)\n",
    "d2=euclidean(random_point,mean_versicolor)\n",
    "d3=euclidean(random_point,mean_virginica)\n",
    "predicted=\"\"\n",
    "actual=data.iloc[[index],[4]].values[0][0]\n",
    "if(d3<d1 and d3<d2):\n",
    "    predicted=\"Iris-virginica\"\n",
    "elif(d2<d1 and d2<d3):\n",
    "    predicted=\"Iris-versicolor\"\n",
    "elif(d1<d2 and d1<d3):\n",
    "    predicted=\"Iris-setosa\"\n",
    "s=\"Actual class-\"+actual+\" predicted class-\"+predicted\n",
    "x=[\"Iris-setosa\",\"Iris-versicolor\",\"Iris-virginica\"]\n",
    "y=[d1,d2,d3]\n",
    "plt.plot(x, y)\n",
    "plt.xlabel(\"Class\")\n",
    "plt.ylabel(\"Distance\")\n",
    "plt.title(s)\n",
    "plt.show() "
   ]
  },
  {
   "cell_type": "code",
   "execution_count": 14,
   "id": "fd1000a3",
   "metadata": {},
   "outputs": [
    {
     "data": {
      "image/png": "[encoded data removed]",
      "text/plain": [
       "<Figure size 1440x360 with 1 Axes>"
      ]
     },
     "metadata": {
      "needs_background": "light"
     },
     "output_type": "display_data"
    }
   ],
   "source": [
    "#Error Plot (Classifier Vs Misclassification error rates)\n",
    "label=[\"euclidean\",\"city_block\",\"chessBoard\",\"mahalanobis\",\"correlation\",\"cosine\",\"brayCurtis\",\"canberra\",\"minkowski\"]\n",
    "fig = plt.figure(figsize = (20,5))\n",
    "plt.bar(label,res, width = 0.5)\n",
    "plt.ylabel(\"Error rate\")\n",
    "plt.title(\"Classifier vs Misclassified Error rate\")\n",
    "plt.show()"
   ]
  },
  {
   "cell_type": "code",
   "execution_count": null,
   "id": "c55c3d33",
   "metadata": {},
   "outputs": [],
   "source": []
  }
 ],
 "metadata": {
  "kernelspec": {
   "display_name": "Python 3 (ipykernel)",
   "language": "python",
   "name": "python3"
  },
  "language_info": {
   "codemirror_mode": {
    "name": "ipython",
    "version": 3
   },
   "file_extension": ".py",
   "mimetype": "text/x-python",
   "name": "python",
   "nbconvert_exporter": "python",
   "pygments_lexer": "ipython3",
   "version": "3.9.7"
  }
 },
 "nbformat": 4,
 "nbformat_minor": 5
}
