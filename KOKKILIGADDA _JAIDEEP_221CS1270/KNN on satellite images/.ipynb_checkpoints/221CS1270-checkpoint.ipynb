{
 "cells": [
  {
   "cell_type": "code",
   "execution_count": 1,
   "id": "10766b1a",
   "metadata": {},
   "outputs": [],
   "source": [
    "import matplotlib.pyplot as plt\n",
    "import heapq\n",
    "import numpy as np\n",
    "import cv2\n",
    "from sklearn.model_selection import train_test_split"
   ]
  },
  {
   "cell_type": "code",
   "execution_count": 2,
   "id": "e4027cca",
   "metadata": {},
   "outputs": [],
   "source": [
    "# image reading with opencv\n",
    "img1 = cv2.imread('1.jpg',0) \n",
    "img2 = cv2.imread('2.jpg',0)\n",
    "img3 = cv2.imread('3.jpg',0)\n",
    "img4 = cv2.imread('4.jpg',0)"
   ]
  },
  {
   "cell_type": "code",
   "execution_count": 3,
   "id": "c3f8eee7",
   "metadata": {},
   "outputs": [],
   "source": [
    "#selecting coordinates for river and non river from image \n",
    "river=[[154, 20], [158, 31], [100, 488], [161, 165], [165, 46], [170, 467], [174, 54], [175, 67], [179, 110], [172, 114], [172, 133], [159, 144], [177, 453], [167, 185], [160, 185], [167, 188], [162, 193], [168, 200], [173, 210], [172, 219], [184, 229], [181, 213], [191, 245], [185, 252], [184, 247], [197, 251], [200, 255], [195, 270], [203, 271], [209, 274], [215, 282], [212, 289], [212, 296], [221, 300], [226, 309], [218, 311],[147, 7], [155, 20], [158, 35], [165, 41], [163, 50], [172, 62], [170, 74], [178, 83], [177, 98], [183, 106], [176, 114], [180, 124], [173, 133], [167, 150], [161, 172], [167, 183], [162, 195], [165, 192], [165, 205], [173, 215], [183, 232], [183, 246], [194, 246], [196, 258], [202, 267], [218, 314], [207, 323], [204, 336], [205, 350], [208, 354], [197, 363], [192, 370], [188, 381], [182, 399], [207, 277], [212, 280], [212, 289], [219, 294], [218, 306], [225, 312], [220, 323], [227, 324], [219, 332], [225, 336], [216, 336], [209, 323], [220, 340], [208, 345], [219, 339], [209, 348], [217, 346], [202, 358], [200, 349], [199, 360], [191, 373], [188, 384], [185, 389], [190, 386], [163, 166],[186, 400], [184, 410], [164, 470], [151, 488], [149, 504]]\n",
    "non_river=[[9, 4], [12, 24],[227, 32], [256, 344], [313, 401], [357, 375], [409, 389], [418, 321], [445, 189], [396, 175], [453, 101], [422, 66], [388, 53], [433, 32], [461, 58], [485, 145], [424, 130], [393, 130], [265, 152], [236, 93], [219, 65], [124, 45], [75, 32], [104, 74], [84, 73], [54, 60], [73, 115], [119, 110], [94, 139], [69, 149], [36, 120], [37, 80], [25, 53], [26, 36], [86, 234], [54, 197], [100, 197], [138, 152], [156, 247], [128, 169], [129, 204], [78, 169], [42, 172], [43, 210], [72, 241], [107, 273], [158, 296], [144, 282], [90, 297], [81, 260], [54, 277], [72, 281], [48, 253], [26, 229], [27, 279], [24, 257], [52, 330], [41, 318], [102, 329], [74, 338], [141, 348], [137, 333], [165, 325], [278, 276], [274, 224], [304, 224], [346, 205], [321, 172], [312, 135], [225, 198], [210, 153], [212, 106], [315, 79], [286, 48], [365, 30], [345, 69], [353, 115], [370, 172], [380, 197], [452, 233], [424, 269], [401, 454], [341, 466], [304, 464], [237, 461], [232, 428], [122, 404], [89, 438], [85, 394], [52, 409], [49, 362], [34, 397], [45, 450], [68, 450], [93, 462], [61, 26], [74, 37], [92, 36], [113, 91], [92, 129], [79, 128], [53, 139], [34, 153], [13, 192], [5, 209], [80, 219], [105, 208], [111, 213], [152, 219], [159, 233], [165, 247], [178, 263], [179, 282], [117, 315], [90, 325], [59, 317], [28, 349], [108, 389], [154, 424], [78, 451], [13, 455], [185, 315], [153, 463], [104, 482], [154, 74], [283, 6], [257, 19], [412, 48], [444, 30], [480, 37], [466, 85], [428, 125], [403, 155], [352, 177], [297, 205], [270, 189], [274, 210], [271, 239], [248, 268],[310, 292], [376, 288], [447, 278], [478, 281], [489, 335], [416, 409], [396, 438], [316, 464], [276, 433], [223, 389], [204, 432], [454, 478], [497, 44], [488, 434], [400, 494], [401, 435], [476, 287], [509, 74], [467, 32], [189, 497], [70, 495], [203, 493],[118, 448], [146, 400], [104, 368], [69, 374], [24, 462], [19, 417], [61, 485],[199, 510], [198, 178], [208, 86], [285, 5], [412, 16], [434, 63], [495, 321], [328, 369], [125, 421], [493, 374], [502, 135], [113, 126]]"
   ]
  },
  {
   "cell_type": "code",
   "execution_count": 12,
   "id": "d5719d26",
   "metadata": {},
   "outputs": [],
   "source": [
    "#adding pixel values to river_data and non_river data \n",
    "#and adding labels to river_data and non_river data\n",
    "river_data=[]\n",
    "nonriver_data=[]\n",
    "for i in range (len(river)):\n",
    "    river_data.append([img1[river[i][1]][river[i][0]],img2[river[i][1]][river[i][0]],img3[river[i][1]][river[i][0]],img4[river[i][1]][river[i][0]],0])\n",
    "for i in range (len(non_river)):\n",
    "    nonriver_data.append([img1[non_river[i][1]][non_river[i][0]],img2[non_river[i][1]][non_river[i][0]],img3[non_river[i][1]][non_river[i][0]],img4[non_river[i][1]][non_river[i][0]],1])"
   ]
  },
  {
   "cell_type": "code",
   "execution_count": 13,
   "id": "3926577e",
   "metadata": {},
   "outputs": [
    {
     "name": "stdout",
     "output_type": "stream",
     "text": [
      "Size of river data set  :  100\n",
      "Size of Non river data set  :  180\n"
     ]
    }
   ],
   "source": [
    "river_data=np.array(river_data)\n",
    "nonriver_data=np.array(nonriver_data)\n",
    "print(\"Size of river data set  : \",len(river_data))\n",
    "print(\"Size of Non river data set  : \",len(nonriver_data))"
   ]
  },
  {
   "cell_type": "code",
   "execution_count": 14,
   "id": "6cf5c06e",
   "metadata": {},
   "outputs": [],
   "source": [
    "#splitting data as train_river,test_river and train_nonriver,test_non river \n",
    "train_river_data,test_river_data = train_test_split(river_data,test_size=0.4)\n",
    "train_nonriver_data,test_nonriver_data = train_test_split(nonriver_data,test_size=0.4)"
   ]
  },
  {
   "cell_type": "code",
   "execution_count": 15,
   "id": "96f4e794",
   "metadata": {},
   "outputs": [],
   "source": [
    "#merging the data\n",
    "train_data=np.concatenate((train_river_data,train_nonriver_data), axis=0)\n",
    "test_data=np.concatenate((test_river_data,test_nonriver_data), axis=0)\n",
    "print(\"Size of training \")"
   ]
  },
  {
   "cell_type": "code",
   "execution_count": 16,
   "id": "d60bdb77",
   "metadata": {},
   "outputs": [],
   "source": [
    "def euclidean(a,b):\n",
    "    d=0 \n",
    "    for i in range(0,3): \n",
    "        d += (a[i] - b[i])**2\n",
    "    return [d**0.5,b[4]]"
   ]
  },
  {
   "cell_type": "code",
   "execution_count": 19,
   "id": "e0901ca1",
   "metadata": {},
   "outputs": [
    {
     "name": "stdout",
     "output_type": "stream",
     "text": [
      "Accuracy at k =  1  -  0.9642857142857143\n",
      "Accuracy at k =  3  -  0.9553571428571429\n",
      "Accuracy at k =  5  -  0.9375\n",
      "Accuracy at k =  7  -  0.9375\n",
      "Accuracy at k =  9  -  0.9196428571428571\n"
     ]
    }
   ],
   "source": [
    "K=[1,3,5,7,9]\n",
    "accuracy=[]\n",
    "for k in K:\n",
    "    success=0\n",
    "    for i in range(0,len(test_data)):\n",
    "        distance=[]\n",
    "        for j in range(0,len(train_data)):\n",
    "            distance.append(euclidean(test_data[i],train_data[j]))\n",
    "        heapq.heapify(distance)   # creating heap with distances\n",
    "        k_distance=[]\n",
    "        for m in range(0,k):\n",
    "            k_distance.append(heapq.heappop(distance)) # selecting most suitable k distances\n",
    "        count=0\n",
    "        for m in range(0,len(k_distance)):\n",
    "            if(k_distance[m][1]==1):\n",
    "                count+=1\n",
    "        if(count>(k//2) and test_data[i][4]==1):\n",
    "            success+=1\n",
    "        elif (test_data[i][4]==0):\n",
    "            success+=1\n",
    "    accuracy.append(success/len(test_data))\n",
    "for i in range(len(K)):\n",
    "    print(\"Accuracy at k = \",K[i],\" - \",accuracy[i])"
   ]
  },
  {
   "cell_type": "code",
   "execution_count": 20,
   "id": "682b98bb",
   "metadata": {},
   "outputs": [
    {
     "data": {
      "image/png": "[encoded data removed]",
      "text/plain": [
       "<Figure size 432x288 with 1 Axes>"
      ]
     },
     "metadata": {
      "needs_background": "light"
     },
     "output_type": "display_data"
    }
   ],
   "source": [
    "m=max(accuracy)\n",
    "l=[K[i] for i,val in enumerate(accuracy) if val==m]\n",
    "plt.plot(K,accuracy)\n",
    "plt.xlabel(\"K values\")\n",
    "plt.ylabel(\"Accuracy\")\n",
    "s=\"At- k= \"+str(l)+\" we get max accuracy - \"+str(m)\n",
    "plt.title(s)\n",
    "plt.show() "
   ]
  },
  {
   "cell_type": "code",
   "execution_count": null,
   "id": "787fb67a",
   "metadata": {},
   "outputs": [],
   "source": []
  },
  {
   "cell_type": "code",
   "execution_count": null,
   "id": "d6390e3c",
   "metadata": {},
   "outputs": [],
   "source": []
  },
  {
   "cell_type": "code",
   "execution_count": null,
   "id": "9d95b77e",
   "metadata": {},
   "outputs": [],
   "source": []
  }
 ],
 "metadata": {
  "kernelspec": {
   "display_name": "Python 3 (ipykernel)",
   "language": "python",
   "name": "python3"
  },
  "language_info": {
   "codemirror_mode": {
    "name": "ipython",
    "version": 3
   },
   "file_extension": ".py",
   "mimetype": "text/x-python",
   "name": "python",
   "nbconvert_exporter": "python",
   "pygments_lexer": "ipython3",
   "version": "3.9.7"
  }
 },
 "nbformat": 4,
 "nbformat_minor": 5
}
